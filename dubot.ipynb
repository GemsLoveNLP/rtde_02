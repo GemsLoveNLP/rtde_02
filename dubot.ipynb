{
 "cells": [
  {
   "cell_type": "code",
   "execution_count": null,
   "metadata": {},
   "outputs": [],
   "source": [
    "dType = 0\n",
    "api = 0"
   ]
  },
  {
   "cell_type": "code",
   "execution_count": null,
   "metadata": {},
   "outputs": [],
   "source": [
    "import math\n",
    "\n",
    "# Initialize Dubot parameters with safe limits\n",
    "dType.SetPTPJointParams(api, 200, 200, 200, 200, 200, 200, 200, 200, 0)\n",
    "dType.SetPTPCoordinateParams(api, 200, 200, 200, 200, 0)\n",
    "dType.SetPTPJumpParams(api, 10, 200, 0)\n",
    "dType.SetPTPCommonParams(api, 100, 100, 0)\n",
    "\n",
    "pos = dType.GetPose(api)\n",
    "rHead = pos[3]\n",
    "\n",
    "# define variables\n",
    "coin = [(0,0),(267,65),(260,16),(262,-43)] # (x,y) of each coin (The first element is not used)\n",
    "stack = [(0,0),(210,65),(210,16),(210,-43)] # (x,y) of each stack (The first element is not used)\n",
    "z_high = -10\n",
    "z_gnd = -69\n",
    "drop_height = 1\n",
    "coin_height = 2.1\n",
    "\n",
    "dType.SetEndEffectorSuctionCup(api, 1, 0, 1)  # Suction off\n",
    "\n",
    "# Loop\n",
    "for n in range(1,4):  # 3 coins\n",
    "    for m in range(1,4):  # 3 stacks\n",
    "\n",
    "        # move to get coin\n",
    "        dType.SetPTPCmd(api, 2, coin[n][0], coin[n][1], z_high, 0, 1)\n",
    "        dType.SetPTPCmd(api, 2, coin[n][0], coin[n][1], z_gnd + coin_height*(4-m), 0, 1)\n",
    "        dType.SetEndEffectorSuctionCup(api, 1, 1, 1)  # Suction on\n",
    "        dType.SetPTPCmd(api, 2, coin[n][0], coin[n][1], z_high, 0, 1)\n",
    "\n",
    "        # move to place coin\n",
    "        dType.SetPTPCmd(api, 2, stack[m][0], stack[m][1], z_high, 0, 1)\n",
    "        dType.SetPTPCmd(api, 2, stack[m][0], stack[m][1], z_gnd + drop_height + coin_height*n, 0, 1)\n",
    "        dType.SetEndEffectorSuctionCup(api, 1, 0, 1)  # Suction off\n",
    "        dType.SetPTPCmd(api, 2, stack[m][0], stack[m][1], z_high, 0, 1) \n",
    "\n",
    "dType.SetEndEffectorSuctionCup(api, 1, 0, 1)  # Suction off"
   ]
  }
 ],
 "metadata": {
  "kernelspec": {
   "display_name": "base",
   "language": "python",
   "name": "python3"
  },
  "language_info": {
   "name": "python",
   "version": "3.9.13"
  }
 },
 "nbformat": 4,
 "nbformat_minor": 2
}
